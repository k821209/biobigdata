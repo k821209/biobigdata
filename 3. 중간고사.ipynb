{
 "cells": [
  {
   "cell_type": "markdown",
   "metadata": {},
   "source": [
    "# 2018년 1학기 바이오빅데이터 중간고사 \n",
    "* 오픈북\n",
    "* 컨닝 금지 (다 티남, 뒤에서 지켜보고 있다.....) \n",
    "* 꼭 Restart kernel 해서 잘 실행되는지 확인하고 (받아서 실행이 안되면 오답처리합니다.)\n",
    "* 작성한 ipynb 파일을 kangyangjae@gmail.com 으로 보내세요\n",
    "\n"
   ]
  },
  {
   "cell_type": "markdown",
   "metadata": {},
   "source": [
    "## 1. 본인의 이름을 input 함수를 통해 입력받고 print하는 코드를 짜보시오"
   ]
  },
  {
   "cell_type": "markdown",
   "metadata": {},
   "source": [
    "## 2. 본인의 나이를 input함수를 통해 입력받고 10대인지 20대인지를 판단하는 코드를 짜보시오\n",
    "* 반복문을 통해 지속적으로 입력받게함 (while)\n",
    "* 나이 입력을 하지 않으면 반복이 종료되게함 "
   ]
  },
  {
   "cell_type": "markdown",
   "metadata": {},
   "source": [
    "## 3. 다음 표를 pandas dataframe 으로 작성해서 변수명 df_mask 에 할당하시오 \n",
    "![](./img/mask.jpg)"
   ]
  },
  {
   "cell_type": "markdown",
   "metadata": {},
   "source": [
    "## 4. 윗 표에서 연도별 마스크 매출분포를 다음과 같이 boxplot으로 나타내보자  \n",
    "![](./img/boxplot.png)"
   ]
  },
  {
   "cell_type": "markdown",
   "metadata": {},
   "source": [
    "## 5. 윗 표에서 각 연도별 마스크 매출 분포를 ttest를 통해 비교하여 p value를 구해보자  \n",
    "* 2013 vs 2014\n",
    "* 2013 vs 2015 \n",
    "* 2013 vs 2016 \n",
    "* 2014 vs 2015\n",
    "* 2014 vs 2016\n",
    "* 2015 vs 2016 "
   ]
  }
 ],
 "metadata": {
  "kernelspec": {
   "display_name": "Python 3",
   "language": "python",
   "name": "python3"
  },
  "language_info": {
   "codemirror_mode": {
    "name": "ipython",
    "version": 3
   },
   "file_extension": ".py",
   "mimetype": "text/x-python",
   "name": "python",
   "nbconvert_exporter": "python",
   "pygments_lexer": "ipython3",
   "version": "3.5.2"
  }
 },
 "nbformat": 4,
 "nbformat_minor": 2
}

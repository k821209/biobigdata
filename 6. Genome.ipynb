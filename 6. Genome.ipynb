{
 "cells": [
  {
   "cell_type": "markdown",
   "metadata": {},
   "source": [
    "![](https://neuroendoimmune.files.wordpress.com/2014/03/snp.png)\n",
    "![](http://foreign.macrogen.co.kr/eng/images/business/img/ngs_exome_sequencing.gif)\n",
    "![](http://www.labtimes.org/labtimes/method/methods/img/2010_01a.gif)\n",
    "**SNP (Single nucleotide polymorphism)**"
   ]
  },
  {
   "cell_type": "code",
   "execution_count": 16,
   "metadata": {},
   "outputs": [],
   "source": [
    "# 1001 Genomes\n",
    "# A Catalog of Arabidopsis thaliana Genetic Variation.\n",
    "# http://1001genomes.org/data/GMI-MPI/releases/v3.1/SNP_matrix_imputed_hdf5/\n",
    "import h5py\n",
    "import numpy"
   ]
  },
  {
   "cell_type": "code",
   "execution_count": 5,
   "metadata": {},
   "outputs": [],
   "source": [
    "f = h5py.File('../1001arabi/1001_SNP_MATRIX/imputed_snps_binary.hdf5')"
   ]
  },
  {
   "cell_type": "code",
   "execution_count": 11,
   "metadata": {},
   "outputs": [],
   "source": [
    "# Coordinates for At1g01070.1\n",
    "start_pos = 38752\n",
    "end_pos   = 40944\n",
    "\n",
    "# Get all SNP positions for all chromosomes (len=10709949)\n",
    "positions = f['positions'][:]\n",
    "\n",
    "# Array of tupels with start/stop indices for each chromosome\n",
    "chr_regions = f['positions'].attrs['chr_regions']\n",
    "indices_for_chr1 = chr_regions[0]\n",
    "\n",
    "# Subset positions for SNPs on Chr1\n",
    "positions_on_chr1 = positions[indices_for_chr1[0]:indices_for_chr1[1]]"
   ]
  },
  {
   "cell_type": "code",
   "execution_count": 12,
   "metadata": {},
   "outputs": [
    {
     "data": {
      "text/plain": [
       "array([      55,       56,       63, ..., 30427613, 30427616, 30427620],\n",
       "      dtype=int32)"
      ]
     },
     "execution_count": 12,
     "metadata": {},
     "output_type": "execute_result"
    }
   ],
   "source": [
    "positions_on_chr1"
   ]
  },
  {
   "cell_type": "code",
   "execution_count": 13,
   "metadata": {},
   "outputs": [
    {
     "data": {
      "text/plain": [
       "array([[       0,  2597825],\n",
       "       [ 2597825,  4466694],\n",
       "       [ 4466694,  6661059],\n",
       "       [ 6661059,  8428147],\n",
       "       [ 8428147, 10709949]])"
      ]
     },
     "execution_count": 13,
     "metadata": {},
     "output_type": "execute_result"
    }
   ],
   "source": [
    "chr_regions"
   ]
  },
  {
   "cell_type": "code",
   "execution_count": 23,
   "metadata": {},
   "outputs": [],
   "source": [
    "m1 = positions_on_chr1 >= start_pos\n",
    "m2 = positions_on_chr1 <= end_pos"
   ]
  },
  {
   "cell_type": "code",
   "execution_count": 24,
   "metadata": {},
   "outputs": [],
   "source": [
    "idx_start_pos, idx_end_pos = (m1 & m2).nonzero()[0] [[0,-1]]"
   ]
  },
  {
   "cell_type": "code",
   "execution_count": 25,
   "metadata": {},
   "outputs": [],
   "source": [
    "snps_in_region = f['snps'][idx_start_pos:idx_end_pos]"
   ]
  },
  {
   "cell_type": "code",
   "execution_count": 28,
   "metadata": {},
   "outputs": [
    {
     "data": {
      "text/plain": [
       "<matplotlib.axes._subplots.AxesSubplot at 0x7ff6e8ae3358>"
      ]
     },
     "execution_count": 28,
     "metadata": {},
     "output_type": "execute_result"
    },
    {
     "data": {
      "image/png": "[encoded data removed]",
      "text/plain": [
       "<matplotlib.figure.Figure at 0x7ff6e8addda0>"
      ]
     },
     "metadata": {},
     "output_type": "display_data"
    }
   ],
   "source": [
    "%matplotlib inline\n",
    "import seaborn as sb\n",
    "sb.heatmap(snps_in_region)"
   ]
  },
  {
   "cell_type": "code",
   "execution_count": 29,
   "metadata": {},
   "outputs": [
    {
     "data": {
      "text/plain": [
       "(109, 1135)"
      ]
     },
     "execution_count": 29,
     "metadata": {},
     "output_type": "execute_result"
    }
   ],
   "source": [
    "snps_in_region.shape"
   ]
  },
  {
   "cell_type": "code",
   "execution_count": 30,
   "metadata": {},
   "outputs": [
    {
     "data": {
      "text/plain": [
       "(2014, 2123)"
      ]
     },
     "execution_count": 30,
     "metadata": {},
     "output_type": "execute_result"
    }
   ],
   "source": [
    "idx_start_pos,idx_end_pos"
   ]
  },
  {
   "cell_type": "code",
   "execution_count": 1,
   "metadata": {},
   "outputs": [],
   "source": [
    "import pandas as pd\n",
    "df_dna = pd.read_csv('./genotype_dna_matrix.txt',header=None)"
   ]
  },
  {
   "cell_type": "code",
   "execution_count": 2,
   "metadata": {},
   "outputs": [
    {
     "data": {
      "text/html": [
       "<div>\n",
       "<style scoped>\n",
       "    .dataframe tbody tr th:only-of-type {\n",
       "        vertical-align: middle;\n",
       "    }\n",
       "\n",
       "    .dataframe tbody tr th {\n",
       "        vertical-align: top;\n",
       "    }\n",
       "\n",
       "    .dataframe thead th {\n",
       "        text-align: right;\n",
       "    }\n",
       "</style>\n",
       "<table border=\"1\" class=\"dataframe\">\n",
       "  <thead>\n",
       "    <tr style=\"text-align: right;\">\n",
       "      <th></th>\n",
       "      <th>0</th>\n",
       "      <th>1</th>\n",
       "      <th>2</th>\n",
       "      <th>3</th>\n",
       "      <th>4</th>\n",
       "      <th>5</th>\n",
       "      <th>6</th>\n",
       "      <th>7</th>\n",
       "      <th>8</th>\n",
       "      <th>9</th>\n",
       "      <th>...</th>\n",
       "      <th>321</th>\n",
       "      <th>322</th>\n",
       "      <th>323</th>\n",
       "      <th>324</th>\n",
       "      <th>325</th>\n",
       "      <th>326</th>\n",
       "      <th>327</th>\n",
       "      <th>328</th>\n",
       "      <th>329</th>\n",
       "      <th>330</th>\n",
       "    </tr>\n",
       "  </thead>\n",
       "  <tbody>\n",
       "    <tr>\n",
       "      <th>0</th>\n",
       "      <td>A</td>\n",
       "      <td>G</td>\n",
       "      <td>G</td>\n",
       "      <td>C</td>\n",
       "      <td>G</td>\n",
       "      <td>A</td>\n",
       "      <td>G</td>\n",
       "      <td>G</td>\n",
       "      <td>G</td>\n",
       "      <td>G</td>\n",
       "      <td>...</td>\n",
       "      <td>T</td>\n",
       "      <td>A</td>\n",
       "      <td>T</td>\n",
       "      <td>G</td>\n",
       "      <td>A</td>\n",
       "      <td>A</td>\n",
       "      <td>T</td>\n",
       "      <td>N</td>\n",
       "      <td>G</td>\n",
       "      <td>T</td>\n",
       "    </tr>\n",
       "    <tr>\n",
       "      <th>1</th>\n",
       "      <td>A</td>\n",
       "      <td>G</td>\n",
       "      <td>G</td>\n",
       "      <td>C</td>\n",
       "      <td>G</td>\n",
       "      <td>A</td>\n",
       "      <td>G</td>\n",
       "      <td>G</td>\n",
       "      <td>G</td>\n",
       "      <td>G</td>\n",
       "      <td>...</td>\n",
       "      <td>T</td>\n",
       "      <td>A</td>\n",
       "      <td>T</td>\n",
       "      <td>G</td>\n",
       "      <td>A</td>\n",
       "      <td>A</td>\n",
       "      <td>N</td>\n",
       "      <td>C</td>\n",
       "      <td>G</td>\n",
       "      <td>T</td>\n",
       "    </tr>\n",
       "    <tr>\n",
       "      <th>2</th>\n",
       "      <td>A</td>\n",
       "      <td>G</td>\n",
       "      <td>G</td>\n",
       "      <td>C</td>\n",
       "      <td>G</td>\n",
       "      <td>A</td>\n",
       "      <td>N</td>\n",
       "      <td>G</td>\n",
       "      <td>G</td>\n",
       "      <td>G</td>\n",
       "      <td>...</td>\n",
       "      <td>T</td>\n",
       "      <td>A</td>\n",
       "      <td>T</td>\n",
       "      <td>G</td>\n",
       "      <td>A</td>\n",
       "      <td>A</td>\n",
       "      <td>T</td>\n",
       "      <td>C</td>\n",
       "      <td>G</td>\n",
       "      <td>T</td>\n",
       "    </tr>\n",
       "    <tr>\n",
       "      <th>3</th>\n",
       "      <td>A</td>\n",
       "      <td>G</td>\n",
       "      <td>G</td>\n",
       "      <td>C</td>\n",
       "      <td>N</td>\n",
       "      <td>A</td>\n",
       "      <td>G</td>\n",
       "      <td>G</td>\n",
       "      <td>G</td>\n",
       "      <td>G</td>\n",
       "      <td>...</td>\n",
       "      <td>N</td>\n",
       "      <td>N</td>\n",
       "      <td>N</td>\n",
       "      <td>N</td>\n",
       "      <td>N</td>\n",
       "      <td>N</td>\n",
       "      <td>T</td>\n",
       "      <td>C</td>\n",
       "      <td>A</td>\n",
       "      <td>C</td>\n",
       "    </tr>\n",
       "    <tr>\n",
       "      <th>4</th>\n",
       "      <td>G</td>\n",
       "      <td>G</td>\n",
       "      <td>G</td>\n",
       "      <td>C</td>\n",
       "      <td>G</td>\n",
       "      <td>A</td>\n",
       "      <td>G</td>\n",
       "      <td>G</td>\n",
       "      <td>G</td>\n",
       "      <td>G</td>\n",
       "      <td>...</td>\n",
       "      <td>N</td>\n",
       "      <td>N</td>\n",
       "      <td>N</td>\n",
       "      <td>N</td>\n",
       "      <td>N</td>\n",
       "      <td>N</td>\n",
       "      <td>T</td>\n",
       "      <td>C</td>\n",
       "      <td>A</td>\n",
       "      <td>C</td>\n",
       "    </tr>\n",
       "  </tbody>\n",
       "</table>\n",
       "<p>5 rows × 331 columns</p>\n",
       "</div>"
      ],
      "text/plain": [
       "  0   1   2   3   4   5   6   7   8   9   ... 321 322 323 324 325 326 327 328  \\\n",
       "0   A   G   G   C   G   A   G   G   G   G ...   T   A   T   G   A   A   T   N   \n",
       "1   A   G   G   C   G   A   G   G   G   G ...   T   A   T   G   A   A   N   C   \n",
       "2   A   G   G   C   G   A   N   G   G   G ...   T   A   T   G   A   A   T   C   \n",
       "3   A   G   G   C   N   A   G   G   G   G ...   N   N   N   N   N   N   T   C   \n",
       "4   G   G   G   C   G   A   G   G   G   G ...   N   N   N   N   N   N   T   C   \n",
       "\n",
       "  329 330  \n",
       "0   G   T  \n",
       "1   G   T  \n",
       "2   G   T  \n",
       "3   A   C  \n",
       "4   A   C  \n",
       "\n",
       "[5 rows x 331 columns]"
      ]
     },
     "execution_count": 2,
     "metadata": {},
     "output_type": "execute_result"
    }
   ],
   "source": [
    "df_dna.head()"
   ]
  },
  {
   "cell_type": "code",
   "execution_count": 4,
   "metadata": {},
   "outputs": [],
   "source": [
    "import numpy as np\n",
    "def num(x):\n",
    "    dic = {'A':1, 'T':2, 'G':3, 'C':4,'N':0}\n",
    "    return dic[x]\n",
    "numv = np.vectorize(num)"
   ]
  },
  {
   "cell_type": "code",
   "execution_count": 6,
   "metadata": {},
   "outputs": [],
   "source": [
    "dna_num = numv(df_dna.values)"
   ]
  },
  {
   "cell_type": "code",
   "execution_count": 7,
   "metadata": {},
   "outputs": [
    {
     "data": {
      "text/plain": [
       "(1135, 331)"
      ]
     },
     "execution_count": 7,
     "metadata": {},
     "output_type": "execute_result"
    }
   ],
   "source": [
    "dna_num.shape"
   ]
  },
  {
   "cell_type": "code",
   "execution_count": 8,
   "metadata": {},
   "outputs": [],
   "source": [
    "from sklearn.preprocessing import scale"
   ]
  },
  {
   "cell_type": "code",
   "execution_count": 26,
   "metadata": {},
   "outputs": [
    {
     "data": {
      "text/plain": [
       "<seaborn.matrix.ClusterGrid at 0x7fabbc5bb668>"
      ]
     },
     "execution_count": 26,
     "metadata": {},
     "output_type": "execute_result"
    },
    {
     "data": {
      "image/png": "[encoded data removed]",
      "text/plain": [
       "<matplotlib.figure.Figure at 0x7fabbd3f8be0>"
      ]
     },
     "metadata": {},
     "output_type": "display_data"
    }
   ],
   "source": [
    "%matplotlib inline\n",
    "import seaborn as sb\n",
    "sb.clustermap(dna_num,standard_scale=1)"
   ]
  },
  {
   "cell_type": "code",
   "execution_count": 25,
   "metadata": {},
   "outputs": [],
   "source": [
    "# http://koreansoyabase.org/Data_Resource/Validation_data_set_genotyped_from_the_222_soybean_samples.xlsx\n",
    "# 콩 유전체 정보를 통해 콩의 족보를 추정해보자 "
   ]
  },
  {
   "cell_type": "code",
   "execution_count": 6,
   "metadata": {},
   "outputs": [],
   "source": [
    "%matplotlib inline\n",
    "import seaborn as sb\n",
    "import pandas as pd\n",
    "import numpy as np"
   ]
  },
  {
   "cell_type": "code",
   "execution_count": 7,
   "metadata": {},
   "outputs": [],
   "source": [
    "df_soy = pd.read_csv('/home/k821209/common/db/soybean_gt_sample.csv')"
   ]
  },
  {
   "cell_type": "code",
   "execution_count": 8,
   "metadata": {},
   "outputs": [
    {
     "data": {
      "text/html": [
       "<div>\n",
       "<style scoped>\n",
       "    .dataframe tbody tr th:only-of-type {\n",
       "        vertical-align: middle;\n",
       "    }\n",
       "\n",
       "    .dataframe tbody tr th {\n",
       "        vertical-align: top;\n",
       "    }\n",
       "\n",
       "    .dataframe thead th {\n",
       "        text-align: right;\n",
       "    }\n",
       "</style>\n",
       "<table border=\"1\" class=\"dataframe\">\n",
       "  <thead>\n",
       "    <tr style=\"text-align: right;\">\n",
       "      <th></th>\n",
       "      <th>Chromosome (Glyma1)</th>\n",
       "      <th>Physical position (Glyma1)</th>\n",
       "      <th>Bangsa-a</th>\n",
       "      <th>Bangsa-b</th>\n",
       "      <th>Bangsa-c</th>\n",
       "      <th>Cheongja-a</th>\n",
       "      <th>Cheongja-b</th>\n",
       "      <th>Daeheug-a</th>\n",
       "      <th>Daeheug-b</th>\n",
       "      <th>Daepung-a</th>\n",
       "      <th>Daepung-b</th>\n",
       "      <th>Daewon-a</th>\n",
       "      <th>Daewon-b</th>\n",
       "      <th>Danbaeg-a</th>\n",
       "      <th>Danbaeg-b</th>\n",
       "      <th>Galchae-a</th>\n",
       "      <th>Galchae-b</th>\n",
       "      <th>Geomjeongol-a</th>\n",
       "      <th>Geomjeongol-b</th>\n",
       "      <th>Hannam-a</th>\n",
       "    </tr>\n",
       "  </thead>\n",
       "  <tbody>\n",
       "    <tr>\n",
       "      <th>0</th>\n",
       "      <td>Gm01</td>\n",
       "      <td>31308</td>\n",
       "      <td>TT</td>\n",
       "      <td>TT</td>\n",
       "      <td>TT</td>\n",
       "      <td>TT</td>\n",
       "      <td>TT</td>\n",
       "      <td>TT</td>\n",
       "      <td>TT</td>\n",
       "      <td>TT</td>\n",
       "      <td>TT</td>\n",
       "      <td>TT</td>\n",
       "      <td>TT</td>\n",
       "      <td>TT</td>\n",
       "      <td>TT</td>\n",
       "      <td>TT</td>\n",
       "      <td>TT</td>\n",
       "      <td>TT</td>\n",
       "      <td>TT</td>\n",
       "      <td>TT</td>\n",
       "    </tr>\n",
       "    <tr>\n",
       "      <th>1</th>\n",
       "      <td>Gm01</td>\n",
       "      <td>34199</td>\n",
       "      <td>CC</td>\n",
       "      <td>CC</td>\n",
       "      <td>CC</td>\n",
       "      <td>CC</td>\n",
       "      <td>CC</td>\n",
       "      <td>CC</td>\n",
       "      <td>CC</td>\n",
       "      <td>CC</td>\n",
       "      <td>CC</td>\n",
       "      <td>CC</td>\n",
       "      <td>CC</td>\n",
       "      <td>CC</td>\n",
       "      <td>CC</td>\n",
       "      <td>CC</td>\n",
       "      <td>CC</td>\n",
       "      <td>CC</td>\n",
       "      <td>CC</td>\n",
       "      <td>CC</td>\n",
       "    </tr>\n",
       "    <tr>\n",
       "      <th>2</th>\n",
       "      <td>Gm01</td>\n",
       "      <td>46209</td>\n",
       "      <td>GG</td>\n",
       "      <td>GG</td>\n",
       "      <td>GG</td>\n",
       "      <td>GG</td>\n",
       "      <td>GG</td>\n",
       "      <td>GA</td>\n",
       "      <td>GA</td>\n",
       "      <td>GG</td>\n",
       "      <td>GG</td>\n",
       "      <td>GA</td>\n",
       "      <td>GA</td>\n",
       "      <td>GG</td>\n",
       "      <td>GG</td>\n",
       "      <td>GG</td>\n",
       "      <td>GG</td>\n",
       "      <td>GG</td>\n",
       "      <td>GG</td>\n",
       "      <td>GA</td>\n",
       "    </tr>\n",
       "    <tr>\n",
       "      <th>3</th>\n",
       "      <td>Gm01</td>\n",
       "      <td>56113</td>\n",
       "      <td>CC</td>\n",
       "      <td>CC</td>\n",
       "      <td>CC</td>\n",
       "      <td>CC</td>\n",
       "      <td>CC</td>\n",
       "      <td>CC</td>\n",
       "      <td>CC</td>\n",
       "      <td>CC</td>\n",
       "      <td>CC</td>\n",
       "      <td>CC</td>\n",
       "      <td>CC</td>\n",
       "      <td>CC</td>\n",
       "      <td>CC</td>\n",
       "      <td>CC</td>\n",
       "      <td>CC</td>\n",
       "      <td>CC</td>\n",
       "      <td>CC</td>\n",
       "      <td>CC</td>\n",
       "    </tr>\n",
       "    <tr>\n",
       "      <th>4</th>\n",
       "      <td>Gm01</td>\n",
       "      <td>61067</td>\n",
       "      <td>AA</td>\n",
       "      <td>AA</td>\n",
       "      <td>AA</td>\n",
       "      <td>AA</td>\n",
       "      <td>AA</td>\n",
       "      <td>GG</td>\n",
       "      <td>GG</td>\n",
       "      <td>AA</td>\n",
       "      <td>AA</td>\n",
       "      <td>GG</td>\n",
       "      <td>GG</td>\n",
       "      <td>AA</td>\n",
       "      <td>AA</td>\n",
       "      <td>AA</td>\n",
       "      <td>AA</td>\n",
       "      <td>AA</td>\n",
       "      <td>AA</td>\n",
       "      <td>GG</td>\n",
       "    </tr>\n",
       "  </tbody>\n",
       "</table>\n",
       "</div>"
      ],
      "text/plain": [
       "  Chromosome (Glyma1)  Physical position (Glyma1) Bangsa-a Bangsa-b Bangsa-c  \\\n",
       "0                Gm01                       31308       TT       TT       TT   \n",
       "1                Gm01                       34199       CC       CC       CC   \n",
       "2                Gm01                       46209       GG       GG       GG   \n",
       "3                Gm01                       56113       CC       CC       CC   \n",
       "4                Gm01                       61067       AA       AA       AA   \n",
       "\n",
       "  Cheongja-a Cheongja-b Daeheug-a Daeheug-b Daepung-a Daepung-b Daewon-a  \\\n",
       "0         TT         TT        TT        TT        TT        TT       TT   \n",
       "1         CC         CC        CC        CC        CC        CC       CC   \n",
       "2         GG         GG        GA        GA        GG        GG       GA   \n",
       "3         CC         CC        CC        CC        CC        CC       CC   \n",
       "4         AA         AA        GG        GG        AA        AA       GG   \n",
       "\n",
       "  Daewon-b Danbaeg-a Danbaeg-b Galchae-a Galchae-b Geomjeongol-a  \\\n",
       "0       TT        TT        TT        TT        TT            TT   \n",
       "1       CC        CC        CC        CC        CC            CC   \n",
       "2       GA        GG        GG        GG        GG            GG   \n",
       "3       CC        CC        CC        CC        CC            CC   \n",
       "4       GG        AA        AA        AA        AA            AA   \n",
       "\n",
       "  Geomjeongol-b Hannam-a  \n",
       "0            TT       TT  \n",
       "1            CC       CC  \n",
       "2            GG       GA  \n",
       "3            CC       CC  \n",
       "4            AA       GG  "
      ]
     },
     "execution_count": 8,
     "metadata": {},
     "output_type": "execute_result"
    }
   ],
   "source": [
    "df_soy.head()"
   ]
  },
  {
   "cell_type": "code",
   "execution_count": 9,
   "metadata": {},
   "outputs": [],
   "source": [
    "def num_alleles(x):\n",
    "    dic = {'A':1, 'T':2, 'G':3, 'C':4,'N':0}\n",
    "    alleles = list(x)\n",
    "    alleles.sort()\n",
    "    num_alleles = ''.join([str(dic[i]) for i in alleles])   \n",
    "    return int(num_alleles,5)"
   ]
  },
  {
   "cell_type": "code",
   "execution_count": 10,
   "metadata": {},
   "outputs": [],
   "source": [
    "vnum_alleles = np.vectorize(num_alleles)"
   ]
  },
  {
   "cell_type": "code",
   "execution_count": 11,
   "metadata": {},
   "outputs": [],
   "source": [
    "data = vnum_alleles(df_soy[df_soy.columns[2:]].values)"
   ]
  },
  {
   "cell_type": "code",
   "execution_count": 12,
   "metadata": {},
   "outputs": [],
   "source": [
    "data_sample = data.T"
   ]
  },
  {
   "cell_type": "code",
   "execution_count": 16,
   "metadata": {},
   "outputs": [],
   "source": [
    "from sklearn.decomposition import PCA"
   ]
  },
  {
   "cell_type": "code",
   "execution_count": 17,
   "metadata": {},
   "outputs": [],
   "source": [
    "pca = PCA(n_components=10)"
   ]
  },
  {
   "cell_type": "code",
   "execution_count": 18,
   "metadata": {},
   "outputs": [],
   "source": [
    "data_sample_pca = pca.fit_transform(data_sample)"
   ]
  },
  {
   "cell_type": "code",
   "execution_count": 19,
   "metadata": {},
   "outputs": [
    {
     "data": {
      "text/plain": [
       "(18, 10)"
      ]
     },
     "execution_count": 19,
     "metadata": {},
     "output_type": "execute_result"
    }
   ],
   "source": [
    "data_sample_pca.shape"
   ]
  },
  {
   "cell_type": "code",
   "execution_count": 13,
   "metadata": {},
   "outputs": [],
   "source": [
    "y = df_soy.columns[2:]"
   ]
  },
  {
   "cell_type": "code",
   "execution_count": 20,
   "metadata": {},
   "outputs": [],
   "source": [
    "df_soy_num = pd.DataFrame(data=data_sample_pca,index=y)"
   ]
  },
  {
   "cell_type": "code",
   "execution_count": 21,
   "metadata": {},
   "outputs": [
    {
     "data": {
      "text/html": [
       "<div>\n",
       "<style scoped>\n",
       "    .dataframe tbody tr th:only-of-type {\n",
       "        vertical-align: middle;\n",
       "    }\n",
       "\n",
       "    .dataframe tbody tr th {\n",
       "        vertical-align: top;\n",
       "    }\n",
       "\n",
       "    .dataframe thead th {\n",
       "        text-align: right;\n",
       "    }\n",
       "</style>\n",
       "<table border=\"1\" class=\"dataframe\">\n",
       "  <thead>\n",
       "    <tr style=\"text-align: right;\">\n",
       "      <th></th>\n",
       "      <th>0</th>\n",
       "      <th>1</th>\n",
       "      <th>2</th>\n",
       "      <th>3</th>\n",
       "      <th>4</th>\n",
       "      <th>5</th>\n",
       "      <th>6</th>\n",
       "      <th>7</th>\n",
       "      <th>8</th>\n",
       "      <th>9</th>\n",
       "    </tr>\n",
       "  </thead>\n",
       "  <tbody>\n",
       "    <tr>\n",
       "      <th>Bangsa-a</th>\n",
       "      <td>977.917062</td>\n",
       "      <td>-329.957933</td>\n",
       "      <td>-394.557468</td>\n",
       "      <td>-57.678344</td>\n",
       "      <td>-453.454685</td>\n",
       "      <td>138.823986</td>\n",
       "      <td>73.367586</td>\n",
       "      <td>-80.645095</td>\n",
       "      <td>-210.826272</td>\n",
       "      <td>-20.628030</td>\n",
       "    </tr>\n",
       "    <tr>\n",
       "      <th>Bangsa-b</th>\n",
       "      <td>1002.978248</td>\n",
       "      <td>-350.439510</td>\n",
       "      <td>-412.768783</td>\n",
       "      <td>-60.928892</td>\n",
       "      <td>-483.733331</td>\n",
       "      <td>154.192572</td>\n",
       "      <td>82.074391</td>\n",
       "      <td>-88.603362</td>\n",
       "      <td>438.786030</td>\n",
       "      <td>46.480011</td>\n",
       "    </tr>\n",
       "    <tr>\n",
       "      <th>Bangsa-c</th>\n",
       "      <td>972.902843</td>\n",
       "      <td>-329.294405</td>\n",
       "      <td>-388.584808</td>\n",
       "      <td>-58.256565</td>\n",
       "      <td>-450.475792</td>\n",
       "      <td>139.560016</td>\n",
       "      <td>74.754930</td>\n",
       "      <td>-83.675543</td>\n",
       "      <td>-244.497804</td>\n",
       "      <td>-29.256321</td>\n",
       "    </tr>\n",
       "    <tr>\n",
       "      <th>Cheongja-a</th>\n",
       "      <td>-673.820609</td>\n",
       "      <td>-57.013693</td>\n",
       "      <td>-144.143699</td>\n",
       "      <td>56.888883</td>\n",
       "      <td>35.296697</td>\n",
       "      <td>-187.988425</td>\n",
       "      <td>1035.197309</td>\n",
       "      <td>-104.126303</td>\n",
       "      <td>58.759037</td>\n",
       "      <td>13.338217</td>\n",
       "    </tr>\n",
       "    <tr>\n",
       "      <th>Cheongja-b</th>\n",
       "      <td>-640.927349</td>\n",
       "      <td>-57.864058</td>\n",
       "      <td>-134.057510</td>\n",
       "      <td>55.342208</td>\n",
       "      <td>34.452935</td>\n",
       "      <td>-168.787767</td>\n",
       "      <td>934.241861</td>\n",
       "      <td>-118.808755</td>\n",
       "      <td>-62.805056</td>\n",
       "      <td>-18.450704</td>\n",
       "    </tr>\n",
       "  </tbody>\n",
       "</table>\n",
       "</div>"
      ],
      "text/plain": [
       "                      0           1           2          3           4  \\\n",
       "Bangsa-a     977.917062 -329.957933 -394.557468 -57.678344 -453.454685   \n",
       "Bangsa-b    1002.978248 -350.439510 -412.768783 -60.928892 -483.733331   \n",
       "Bangsa-c     972.902843 -329.294405 -388.584808 -58.256565 -450.475792   \n",
       "Cheongja-a  -673.820609  -57.013693 -144.143699  56.888883   35.296697   \n",
       "Cheongja-b  -640.927349  -57.864058 -134.057510  55.342208   34.452935   \n",
       "\n",
       "                     5            6           7           8          9  \n",
       "Bangsa-a    138.823986    73.367586  -80.645095 -210.826272 -20.628030  \n",
       "Bangsa-b    154.192572    82.074391  -88.603362  438.786030  46.480011  \n",
       "Bangsa-c    139.560016    74.754930  -83.675543 -244.497804 -29.256321  \n",
       "Cheongja-a -187.988425  1035.197309 -104.126303   58.759037  13.338217  \n",
       "Cheongja-b -168.787767   934.241861 -118.808755  -62.805056 -18.450704  "
      ]
     },
     "execution_count": 21,
     "metadata": {},
     "output_type": "execute_result"
    }
   ],
   "source": [
    "df_soy_num.head()"
   ]
  },
  {
   "cell_type": "code",
   "execution_count": 24,
   "metadata": {},
   "outputs": [
    {
     "data": {
      "text/plain": [
       "<seaborn.matrix.ClusterGrid at 0x7fc43eb616a0>"
      ]
     },
     "execution_count": 24,
     "metadata": {},
     "output_type": "execute_result"
    },
    {
     "data": {
      "image/png": "[encoded data removed]",
      "text/plain": [
       "<matplotlib.figure.Figure at 0x7fc43eb612b0>"
      ]
     },
     "metadata": {},
     "output_type": "display_data"
    }
   ],
   "source": [
    "sb.clustermap(df_soy_num,standard_scale=0,col_cluster=False)"
   ]
  },
  {
   "cell_type": "markdown",
   "metadata": {},
   "source": [
    "![](http://cfile202.uf.daum.net/image/135E9C014B4977904AA3F6)\n",
    "![](http://cfile210.uf.daum.net/image/155BAC35516E01F3243CDA)"
   ]
  },
  {
   "cell_type": "code",
   "execution_count": 29,
   "metadata": {},
   "outputs": [],
   "source": [
    "# DNA alignment"
   ]
  },
  {
   "cell_type": "code",
   "execution_count": null,
   "metadata": {},
   "outputs": [],
   "source": []
  }
 ],
 "metadata": {
  "kernelspec": {
   "display_name": "Python 3",
   "language": "python",
   "name": "python3"
  },
  "language_info": {
   "codemirror_mode": {
    "name": "ipython",
    "version": 3
   },
   "file_extension": ".py",
   "mimetype": "text/x-python",
   "name": "python",
   "nbconvert_exporter": "python",
   "pygments_lexer": "ipython3",
   "version": "3.5.2"
  }
 },
 "nbformat": 4,
 "nbformat_minor": 2
}

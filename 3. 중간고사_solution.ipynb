{
 "cells": [
  {
   "cell_type": "markdown",
   "metadata": {},
   "source": [
    "# 2018년 1학기 바이오빅데이터 중간고사 \n",
    "* 오픈북\n",
    "* 컨닝 금지 (다 티남) \n",
    "* 꼭 Restart kernel 해서 잘 실행되는지 확인하고 \n",
    "* 작성한 ipynb 파일을 kangyangjae@gmail.com 으로 보내세요\n"
   ]
  },
  {
   "cell_type": "markdown",
   "metadata": {},
   "source": [
    "## 1. 본인의 이름을 input 함수를 통해 입력받고 print하는 코드를 짜보시오"
   ]
  },
  {
   "cell_type": "markdown",
   "metadata": {},
   "source": [
    "## 2. 본인의 나이를 input함수를 통해 입력받고 10대인지 20대인지를 판단하는 코드를 짜보시오\n",
    "* 반복문을 통해 지속적으로 입력받게함 (while)\n",
    "* 나이 입력을 하지 않으면 반복이 종료되게함 "
   ]
  },
  {
   "cell_type": "markdown",
   "metadata": {},
   "source": [
    "## 3. 다음 표를 pandas dataframe 으로 작성해서 변수명 df_mask 에 할당하시오 \n",
    "![](./img/mask.jpg)"
   ]
  },
  {
   "cell_type": "code",
   "execution_count": 15,
   "metadata": {},
   "outputs": [],
   "source": [
    "import numpy as np\n",
    "import pandas as pd\n",
    "import matplotlib.pyplot as plt\n",
    "a = np.array([1,77.4,150.4,65.5,110.9])\n",
    "b = np.array([2,90.0,183.1,95.3,97.7])\n",
    "c = np.array([3,122.8,155.7,118.0,107.8])\n",
    "d = np.array([4,104.9,99.3,74.8,128.8])\n",
    "e = np.array([5,74.3,66.6,53.5,94.5])\n",
    "f = np.array([6,45.4,39.6,473.8,78.5])\n",
    "g = np.array([7,35.1,32.0,29.4,75.6])\n",
    "h = np.array([8,36.0,34.6,19.2,64.3])\n",
    "i = np.array([9,55.3,47.8,29.9,85.7])\n",
    "j = np.array([10,97.0,82.8,64.7,94.9])\n",
    "k = np.array([11,179.4,122.9,73.2,122.4])\n",
    "l = np.array([12,282.5,185.1,102.8,139.0])\n"
   ]
  },
  {
   "cell_type": "code",
   "execution_count": 10,
   "metadata": {},
   "outputs": [],
   "source": [
    "mat = np.stack((a,b,c,d,e,f,g,h,i,j,k,l))"
   ]
  },
  {
   "cell_type": "code",
   "execution_count": 11,
   "metadata": {},
   "outputs": [],
   "source": [
    "df_mask = pd.DataFrame(data=mat,columns=['연월','2013','2014','2015','2016'])"
   ]
  },
  {
   "cell_type": "markdown",
   "metadata": {},
   "source": [
    "## 4. 윗 표에서 연도별 마스크 매출분포를 다음과 같이 boxplot으로 나타내보자  \n",
    "![](./img/boxplot.png)"
   ]
  },
  {
   "cell_type": "code",
   "execution_count": 21,
   "metadata": {},
   "outputs": [
    {
     "data": {
      "image/png": "[encoded data removed]",
      "text/plain": [
       "<matplotlib.figure.Figure at 0x7f0a546d86d8>"
      ]
     },
     "metadata": {},
     "output_type": "display_data"
    }
   ],
   "source": [
    "plt.boxplot([df_mask['2013'],df_mask['2014'],df_mask['2015'],df_mask['2016']])\n",
    "plt.xticks([1,2,3,4],df_mask.columns[1:])\n",
    "plt.ylabel('Volume of sale')\n",
    "plt.show()"
   ]
  },
  {
   "cell_type": "markdown",
   "metadata": {},
   "source": [
    "## 5. 윗 표에서 각 연도별 마스크 매출 분포를 ttest를 통해 비교하여 p value를 구해보자  \n",
    "* 2013 vs 2014\n",
    "* 2013 vs 2015 \n",
    "* 2013 vs 2016 \n",
    "* 2014 vs 2015\n",
    "* 2014 vs 2016\n",
    "* 2015 vs 2016 "
   ]
  },
  {
   "cell_type": "code",
   "execution_count": 1,
   "metadata": {},
   "outputs": [],
   "source": [
    "# 문제의 답은 ttest를 활용하는 것이었습니다. \n",
    "# 그러나, 본 문제와 같이 샘플의 분포가 정규분포를 보이지 않을 경우, \n",
    "# ttest를 사용하면 차이가 나는 것 처럼 보이는 두 분포가 유의한 차이를 보이지 않는다라고 결론 짓게 됩니다. \n",
    "# 그럴때는 다음과 같이 Mann-Whitney rank test 를 사용하면 됩니다. 특히 생물 실험데이터에 적합하다고 생각합니다. \n",
    "from scipy.stats import mannwhitneyu"
   ]
  },
  {
   "cell_type": "code",
   "execution_count": 31,
   "metadata": {},
   "outputs": [
    {
     "data": {
      "text/plain": [
       "MannwhitneyuResult(statistic=69.0, pvalue=0.4426169572366008)"
      ]
     },
     "execution_count": 31,
     "metadata": {},
     "output_type": "execute_result"
    }
   ],
   "source": [
    "mannwhitneyu(df_mask['2013'],df_mask['2014'])"
   ]
  },
  {
   "cell_type": "code",
   "execution_count": 32,
   "metadata": {},
   "outputs": [
    {
     "data": {
      "text/plain": [
       "MannwhitneyuResult(statistic=54.0, pvalue=0.15616071083810806)"
      ]
     },
     "execution_count": 32,
     "metadata": {},
     "output_type": "execute_result"
    }
   ],
   "source": [
    "mannwhitneyu(df_mask['2013'],df_mask['2016'])"
   ]
  },
  {
   "cell_type": "code",
   "execution_count": 34,
   "metadata": {},
   "outputs": [
    {
     "data": {
      "text/plain": [
       "MannwhitneyuResult(statistic=38.0, pvalue=0.026548978642791713)"
      ]
     },
     "execution_count": 34,
     "metadata": {},
     "output_type": "execute_result"
    }
   ],
   "source": [
    "mannwhitneyu(df_mask['2015'],df_mask['2016'])"
   ]
  },
  {
   "cell_type": "code",
   "execution_count": null,
   "metadata": {},
   "outputs": [],
   "source": []
  }
 ],
 "metadata": {
  "kernelspec": {
   "display_name": "Python 3",
   "language": "python",
   "name": "python3"
  },
  "language_info": {
   "codemirror_mode": {
    "name": "ipython",
    "version": 3
   },
   "file_extension": ".py",
   "mimetype": "text/x-python",
   "name": "python",
   "nbconvert_exporter": "python",
   "pygments_lexer": "ipython3",
   "version": "3.5.2"
  }
 },
 "nbformat": 4,
 "nbformat_minor": 2
}

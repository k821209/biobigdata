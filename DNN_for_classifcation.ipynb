{
 "cells": [
  {
   "cell_type": "code",
   "execution_count": 0,
   "metadata": {
    "colab": {
     "autoexec": {
      "startup": false,
      "wait_interval": 0
     }
    },
    "colab_type": "code",
    "id": "Rdn8R4yPiIt1"
   },
   "outputs": [],
   "source": [
    "# 파일 업로드 방법\n",
    "# chrome://settings/content/cookies?\n",
    "# 로 가서 타사 쿠키 차단 풀어야한다. \n",
    "# from google.colab import files\n",
    "# uploaded = files.upload()"
   ]
  },
  {
   "cell_type": "code",
   "execution_count": 2,
   "metadata": {
    "colab": {
     "autoexec": {
      "startup": false,
      "wait_interval": 0
     },
     "base_uri": "https://localhost:8080/",
     "height": 34
    },
    "colab_type": "code",
    "executionInfo": {
     "elapsed": 2592,
     "status": "ok",
     "timestamp": 1528297627987,
     "user": {
      "displayName": "강양제",
      "photoUrl": "https://lh3.googleusercontent.com/a/default-user=s128",
      "userId": "118056999183661241876"
     },
     "user_tz": -540
    },
    "id": "eUzoCSlGoECh",
    "outputId": "4a19c6ee-6030-473e-b281-5efe686a5443"
   },
   "outputs": [
    {
     "name": "stdout",
     "output_type": "stream",
     "text": [
      "Requirement already satisfied: graphviz in /usr/local/lib/python2.7/dist-packages (0.8.3)\r\n"
     ]
    }
   ],
   "source": [
    "!pip install graphviz"
   ]
  },
  {
   "cell_type": "code",
   "execution_count": 0,
   "metadata": {
    "colab": {
     "autoexec": {
      "startup": false,
      "wait_interval": 0
     }
    },
    "colab_type": "code",
    "id": "td2TznkOnOvy"
   },
   "outputs": [],
   "source": [
    "!apt-get -qq install -y graphviz && pip install -q pydot\n",
    "import pydot"
   ]
  },
  {
   "cell_type": "code",
   "execution_count": 0,
   "metadata": {
    "colab": {
     "autoexec": {
      "startup": false,
      "wait_interval": 0
     }
    },
    "colab_type": "code",
    "id": "AEYmQ75JfyYU"
   },
   "outputs": [],
   "source": [
    "import numpy as np\n",
    "import matplotlib.pyplot as plt\n",
    "import pandas as pd\n",
    "from sklearn.datasets import load_breast_cancer"
   ]
  },
  {
   "cell_type": "code",
   "execution_count": 0,
   "metadata": {
    "colab": {
     "autoexec": {
      "startup": false,
      "wait_interval": 0
     }
    },
    "colab_type": "code",
    "id": "1qe7EW6VnxU_"
   },
   "outputs": [],
   "source": [
    "import pydot"
   ]
  },
  {
   "cell_type": "code",
   "execution_count": 0,
   "metadata": {
    "colab": {
     "autoexec": {
      "startup": false,
      "wait_interval": 0
     }
    },
    "colab_type": "code",
    "id": "7n3KJ0a-hjUA"
   },
   "outputs": [],
   "source": [
    "d = load_breast_cancer()"
   ]
  },
  {
   "cell_type": "code",
   "execution_count": 0,
   "metadata": {
    "colab": {
     "autoexec": {
      "startup": false,
      "wait_interval": 0
     }
    },
    "colab_type": "code",
    "id": "NIrVwe4UjHv9"
   },
   "outputs": [],
   "source": [
    "X = d.data"
   ]
  },
  {
   "cell_type": "code",
   "execution_count": 0,
   "metadata": {
    "colab": {
     "autoexec": {
      "startup": false,
      "wait_interval": 0
     }
    },
    "colab_type": "code",
    "id": "zifj6z7cjlPS"
   },
   "outputs": [],
   "source": [
    "y = d.target"
   ]
  },
  {
   "cell_type": "code",
   "execution_count": 9,
   "metadata": {
    "colab": {
     "autoexec": {
      "startup": false,
      "wait_interval": 0
     },
     "base_uri": "https://localhost:8080/",
     "height": 34
    },
    "colab_type": "code",
    "executionInfo": {
     "elapsed": 613,
     "status": "ok",
     "timestamp": 1528297664476,
     "user": {
      "displayName": "강양제",
      "photoUrl": "https://lh3.googleusercontent.com/a/default-user=s128",
      "userId": "118056999183661241876"
     },
     "user_tz": -540
    },
    "id": "OaEN1bWfjmly",
    "outputId": "60546469-5117-45d9-da99-c548e3545c42"
   },
   "outputs": [
    {
     "data": {
      "text/plain": [
       "(569, 30)"
      ]
     },
     "execution_count": 9,
     "metadata": {
      "tags": []
     },
     "output_type": "execute_result"
    }
   ],
   "source": [
    "X.shape"
   ]
  },
  {
   "cell_type": "code",
   "execution_count": 10,
   "metadata": {
    "colab": {
     "autoexec": {
      "startup": false,
      "wait_interval": 0
     },
     "base_uri": "https://localhost:8080/",
     "height": 34
    },
    "colab_type": "code",
    "executionInfo": {
     "elapsed": 587,
     "status": "ok",
     "timestamp": 1528297665396,
     "user": {
      "displayName": "강양제",
      "photoUrl": "https://lh3.googleusercontent.com/a/default-user=s128",
      "userId": "118056999183661241876"
     },
     "user_tz": -540
    },
    "id": "0bOqfIoNjn8a",
    "outputId": "833f0acb-b03b-4f0c-8570-42255dd465d3"
   },
   "outputs": [
    {
     "data": {
      "text/plain": [
       "(569,)"
      ]
     },
     "execution_count": 10,
     "metadata": {
      "tags": []
     },
     "output_type": "execute_result"
    }
   ],
   "source": [
    "y.shape"
   ]
  },
  {
   "cell_type": "code",
   "execution_count": 0,
   "metadata": {
    "colab": {
     "autoexec": {
      "startup": false,
      "wait_interval": 0
     }
    },
    "colab_type": "code",
    "id": "spMJcqfIjztw"
   },
   "outputs": [],
   "source": [
    "from sklearn.model_selection import train_test_split"
   ]
  },
  {
   "cell_type": "code",
   "execution_count": 0,
   "metadata": {
    "colab": {
     "autoexec": {
      "startup": false,
      "wait_interval": 0
     }
    },
    "colab_type": "code",
    "id": "a2KIr_UNj6gF"
   },
   "outputs": [],
   "source": [
    "X_train, X_test, y_train, y_test = train_test_split(X,y)"
   ]
  },
  {
   "cell_type": "code",
   "execution_count": 0,
   "metadata": {
    "colab": {
     "autoexec": {
      "startup": false,
      "wait_interval": 0
     }
    },
    "colab_type": "code",
    "id": "S0CD4tUsjo0I"
   },
   "outputs": [],
   "source": [
    "from sklearn.ensemble import RandomForestClassifier"
   ]
  },
  {
   "cell_type": "code",
   "execution_count": 0,
   "metadata": {
    "colab": {
     "autoexec": {
      "startup": false,
      "wait_interval": 0
     }
    },
    "colab_type": "code",
    "id": "FF2YkVe5juDa"
   },
   "outputs": [],
   "source": [
    "rf = RandomForestClassifier(n_estimators=2000)"
   ]
  },
  {
   "cell_type": "code",
   "execution_count": 15,
   "metadata": {
    "colab": {
     "autoexec": {
      "startup": false,
      "wait_interval": 0
     },
     "base_uri": "https://localhost:8080/",
     "height": 136
    },
    "colab_type": "code",
    "executionInfo": {
     "elapsed": 5622,
     "status": "ok",
     "timestamp": 1528297675280,
     "user": {
      "displayName": "강양제",
      "photoUrl": "https://lh3.googleusercontent.com/a/default-user=s128",
      "userId": "118056999183661241876"
     },
     "user_tz": -540
    },
    "id": "DsX55QYpjw3Q",
    "outputId": "dec05f7f-f864-4a92-8b1d-59dfbf37e70d"
   },
   "outputs": [
    {
     "data": {
      "text/plain": [
       "RandomForestClassifier(bootstrap=True, class_weight=None, criterion='gini',\n",
       "            max_depth=None, max_features='auto', max_leaf_nodes=None,\n",
       "            min_impurity_decrease=0.0, min_impurity_split=None,\n",
       "            min_samples_leaf=1, min_samples_split=2,\n",
       "            min_weight_fraction_leaf=0.0, n_estimators=2000, n_jobs=1,\n",
       "            oob_score=False, random_state=None, verbose=0,\n",
       "            warm_start=False)"
      ]
     },
     "execution_count": 15,
     "metadata": {
      "tags": []
     },
     "output_type": "execute_result"
    }
   ],
   "source": [
    "rf.fit(X_train, y_train)"
   ]
  },
  {
   "cell_type": "code",
   "execution_count": 16,
   "metadata": {
    "colab": {
     "autoexec": {
      "startup": false,
      "wait_interval": 0
     },
     "base_uri": "https://localhost:8080/",
     "height": 34
    },
    "colab_type": "code",
    "executionInfo": {
     "elapsed": 649,
     "status": "ok",
     "timestamp": 1528297675972,
     "user": {
      "displayName": "강양제",
      "photoUrl": "https://lh3.googleusercontent.com/a/default-user=s128",
      "userId": "118056999183661241876"
     },
     "user_tz": -540
    },
    "id": "XjH1rGBUkAbP",
    "outputId": "626fd2f3-e20e-425e-94c4-8a9f8abdd423"
   },
   "outputs": [
    {
     "data": {
      "text/plain": [
       "0.972027972027972"
      ]
     },
     "execution_count": 16,
     "metadata": {
      "tags": []
     },
     "output_type": "execute_result"
    }
   ],
   "source": [
    "rf.score(X_test, y_test)"
   ]
  },
  {
   "cell_type": "code",
   "execution_count": 17,
   "metadata": {
    "colab": {
     "autoexec": {
      "startup": false,
      "wait_interval": 0
     },
     "base_uri": "https://localhost:8080/",
     "height": 34
    },
    "colab_type": "code",
    "executionInfo": {
     "elapsed": 1610,
     "status": "ok",
     "timestamp": 1528297679134,
     "user": {
      "displayName": "강양제",
      "photoUrl": "https://lh3.googleusercontent.com/a/default-user=s128",
      "userId": "118056999183661241876"
     },
     "user_tz": -540
    },
    "id": "HlJQW5bCkDNn",
    "outputId": "1da22b09-fe54-427f-9665-b2ab216d2dc9"
   },
   "outputs": [
    {
     "name": "stderr",
     "output_type": "stream",
     "text": [
      "Using TensorFlow backend.\n"
     ]
    }
   ],
   "source": [
    "## 딥러닝 간단 실습! \n",
    "\n",
    "from keras.models import Sequential\n",
    "from keras.layers import Dense\n",
    "\n",
    "classifier = Sequential() # Initialising the ANN\n",
    "classifier.add(Dense(units = 16, kernel_initializer = 'uniform', activation = 'relu', input_dim = 30))\n",
    "classifier.add(Dense(units = 8, kernel_initializer = 'uniform', activation = 'relu'))\n",
    "classifier.add(Dense(units = 6, kernel_initializer = 'uniform', activation = 'relu'))\n",
    "classifier.add(Dense(units = 1, kernel_initializer = 'uniform', activation = 'sigmoid'))\n",
    "classifier.compile(optimizer = 'rmsprop', loss = 'binary_crossentropy', metrics = ['accuracy'])"
   ]
  },
  {
   "cell_type": "code",
   "execution_count": 21,
   "metadata": {
    "colab": {
     "autoexec": {
      "startup": false,
      "wait_interval": 0
     },
     "base_uri": "https://localhost:8080/",
     "height": 537
    },
    "colab_type": "code",
    "executionInfo": {
     "elapsed": 616,
     "status": "ok",
     "timestamp": 1528297872184,
     "user": {
      "displayName": "강양제",
      "photoUrl": "https://lh3.googleusercontent.com/a/default-user=s128",
      "userId": "118056999183661241876"
     },
     "user_tz": -540
    },
    "id": "m3f9YKZAm_1W",
    "outputId": "5037af50-7d74-4e9a-b8ea-86c543ad3cad"
   },
   "outputs": [
    {
     "data": {
      "image/svg+xml": [
       "<svg height=\"387pt\" viewBox=\"0.00 0.00 377.00 387.00\" width=\"377pt\" xmlns=\"http://www.w3.org/2000/svg\" xmlns:xlink=\"http://www.w3.org/1999/xlink\">\n",
       "<g class=\"graph\" id=\"graph0\" transform=\"scale(1 1) rotate(0) translate(4 383)\">\n",
       "<title>G</title>\n",
       "<polygon fill=\"white\" points=\"-4,4 -4,-383 373,-383 373,4 -4,4\" stroke=\"none\"/>\n",
       "<!-- 140310985152400 -->\n",
       "<g class=\"node\" id=\"node1\"><title>140310985152400</title>\n",
       "<polygon fill=\"none\" points=\"0,-332.5 0,-378.5 369,-378.5 369,-332.5 0,-332.5\" stroke=\"black\"/>\n",
       "<text font-family=\"Times,serif\" font-size=\"14.00\" text-anchor=\"middle\" x=\"104.5\" y=\"-351.8\">dense_1_input: InputLayer</text>\n",
       "<polyline fill=\"none\" points=\"209,-332.5 209,-378.5 \" stroke=\"black\"/>\n",
       "<text font-family=\"Times,serif\" font-size=\"14.00\" text-anchor=\"middle\" x=\"243\" y=\"-363.3\">input:</text>\n",
       "<polyline fill=\"none\" points=\"209,-355.5 277,-355.5 \" stroke=\"black\"/>\n",
       "<text font-family=\"Times,serif\" font-size=\"14.00\" text-anchor=\"middle\" x=\"243\" y=\"-340.3\">output:</text>\n",
       "<polyline fill=\"none\" points=\"277,-332.5 277,-378.5 \" stroke=\"black\"/>\n",
       "<text font-family=\"Times,serif\" font-size=\"14.00\" text-anchor=\"middle\" x=\"323\" y=\"-363.3\">(None, 30)</text>\n",
       "<polyline fill=\"none\" points=\"277,-355.5 369,-355.5 \" stroke=\"black\"/>\n",
       "<text font-family=\"Times,serif\" font-size=\"14.00\" text-anchor=\"middle\" x=\"323\" y=\"-340.3\">(None, 30)</text>\n",
       "</g>\n",
       "<!-- 140311102443664 -->\n",
       "<g class=\"node\" id=\"node2\"><title>140311102443664</title>\n",
       "<polygon fill=\"none\" points=\"40.5,-249.5 40.5,-295.5 328.5,-295.5 328.5,-249.5 40.5,-249.5\" stroke=\"black\"/>\n",
       "<text font-family=\"Times,serif\" font-size=\"14.00\" text-anchor=\"middle\" x=\"104.5\" y=\"-268.8\">dense_1: Dense</text>\n",
       "<polyline fill=\"none\" points=\"168.5,-249.5 168.5,-295.5 \" stroke=\"black\"/>\n",
       "<text font-family=\"Times,serif\" font-size=\"14.00\" text-anchor=\"middle\" x=\"202.5\" y=\"-280.3\">input:</text>\n",
       "<polyline fill=\"none\" points=\"168.5,-272.5 236.5,-272.5 \" stroke=\"black\"/>\n",
       "<text font-family=\"Times,serif\" font-size=\"14.00\" text-anchor=\"middle\" x=\"202.5\" y=\"-257.3\">output:</text>\n",
       "<polyline fill=\"none\" points=\"236.5,-249.5 236.5,-295.5 \" stroke=\"black\"/>\n",
       "<text font-family=\"Times,serif\" font-size=\"14.00\" text-anchor=\"middle\" x=\"282.5\" y=\"-280.3\">(None, 30)</text>\n",
       "<polyline fill=\"none\" points=\"236.5,-272.5 328.5,-272.5 \" stroke=\"black\"/>\n",
       "<text font-family=\"Times,serif\" font-size=\"14.00\" text-anchor=\"middle\" x=\"282.5\" y=\"-257.3\">(None, 16)</text>\n",
       "</g>\n",
       "<!-- 140310985152400&#45;&gt;140311102443664 -->\n",
       "<g class=\"edge\" id=\"edge1\"><title>140310985152400-&gt;140311102443664</title>\n",
       "<path d=\"M184.5,-332.366C184.5,-324.152 184.5,-314.658 184.5,-305.725\" fill=\"none\" stroke=\"black\"/>\n",
       "<polygon fill=\"black\" points=\"188,-305.607 184.5,-295.607 181,-305.607 188,-305.607\" stroke=\"black\"/>\n",
       "</g>\n",
       "<!-- 140310985152144 -->\n",
       "<g class=\"node\" id=\"node3\"><title>140310985152144</title>\n",
       "<polygon fill=\"none\" points=\"40.5,-166.5 40.5,-212.5 328.5,-212.5 328.5,-166.5 40.5,-166.5\" stroke=\"black\"/>\n",
       "<text font-family=\"Times,serif\" font-size=\"14.00\" text-anchor=\"middle\" x=\"104.5\" y=\"-185.8\">dense_2: Dense</text>\n",
       "<polyline fill=\"none\" points=\"168.5,-166.5 168.5,-212.5 \" stroke=\"black\"/>\n",
       "<text font-family=\"Times,serif\" font-size=\"14.00\" text-anchor=\"middle\" x=\"202.5\" y=\"-197.3\">input:</text>\n",
       "<polyline fill=\"none\" points=\"168.5,-189.5 236.5,-189.5 \" stroke=\"black\"/>\n",
       "<text font-family=\"Times,serif\" font-size=\"14.00\" text-anchor=\"middle\" x=\"202.5\" y=\"-174.3\">output:</text>\n",
       "<polyline fill=\"none\" points=\"236.5,-166.5 236.5,-212.5 \" stroke=\"black\"/>\n",
       "<text font-family=\"Times,serif\" font-size=\"14.00\" text-anchor=\"middle\" x=\"282.5\" y=\"-197.3\">(None, 16)</text>\n",
       "<polyline fill=\"none\" points=\"236.5,-189.5 328.5,-189.5 \" stroke=\"black\"/>\n",
       "<text font-family=\"Times,serif\" font-size=\"14.00\" text-anchor=\"middle\" x=\"282.5\" y=\"-174.3\">(None, 8)</text>\n",
       "</g>\n",
       "<!-- 140311102443664&#45;&gt;140310985152144 -->\n",
       "<g class=\"edge\" id=\"edge2\"><title>140311102443664-&gt;140310985152144</title>\n",
       "<path d=\"M184.5,-249.366C184.5,-241.152 184.5,-231.658 184.5,-222.725\" fill=\"none\" stroke=\"black\"/>\n",
       "<polygon fill=\"black\" points=\"188,-222.607 184.5,-212.607 181,-222.607 188,-222.607\" stroke=\"black\"/>\n",
       "</g>\n",
       "<!-- 140310985152912 -->\n",
       "<g class=\"node\" id=\"node4\"><title>140310985152912</title>\n",
       "<polygon fill=\"none\" points=\"45,-83.5 45,-129.5 324,-129.5 324,-83.5 45,-83.5\" stroke=\"black\"/>\n",
       "<text font-family=\"Times,serif\" font-size=\"14.00\" text-anchor=\"middle\" x=\"109\" y=\"-102.8\">dense_3: Dense</text>\n",
       "<polyline fill=\"none\" points=\"173,-83.5 173,-129.5 \" stroke=\"black\"/>\n",
       "<text font-family=\"Times,serif\" font-size=\"14.00\" text-anchor=\"middle\" x=\"207\" y=\"-114.3\">input:</text>\n",
       "<polyline fill=\"none\" points=\"173,-106.5 241,-106.5 \" stroke=\"black\"/>\n",
       "<text font-family=\"Times,serif\" font-size=\"14.00\" text-anchor=\"middle\" x=\"207\" y=\"-91.3\">output:</text>\n",
       "<polyline fill=\"none\" points=\"241,-83.5 241,-129.5 \" stroke=\"black\"/>\n",
       "<text font-family=\"Times,serif\" font-size=\"14.00\" text-anchor=\"middle\" x=\"282.5\" y=\"-114.3\">(None, 8)</text>\n",
       "<polyline fill=\"none\" points=\"241,-106.5 324,-106.5 \" stroke=\"black\"/>\n",
       "<text font-family=\"Times,serif\" font-size=\"14.00\" text-anchor=\"middle\" x=\"282.5\" y=\"-91.3\">(None, 6)</text>\n",
       "</g>\n",
       "<!-- 140310985152144&#45;&gt;140310985152912 -->\n",
       "<g class=\"edge\" id=\"edge3\"><title>140310985152144-&gt;140310985152912</title>\n",
       "<path d=\"M184.5,-166.366C184.5,-158.152 184.5,-148.658 184.5,-139.725\" fill=\"none\" stroke=\"black\"/>\n",
       "<polygon fill=\"black\" points=\"188,-139.607 184.5,-129.607 181,-139.607 188,-139.607\" stroke=\"black\"/>\n",
       "</g>\n",
       "<!-- 140310984807056 -->\n",
       "<g class=\"node\" id=\"node5\"><title>140310984807056</title>\n",
       "<polygon fill=\"none\" points=\"45,-0.5 45,-46.5 324,-46.5 324,-0.5 45,-0.5\" stroke=\"black\"/>\n",
       "<text font-family=\"Times,serif\" font-size=\"14.00\" text-anchor=\"middle\" x=\"109\" y=\"-19.8\">dense_4: Dense</text>\n",
       "<polyline fill=\"none\" points=\"173,-0.5 173,-46.5 \" stroke=\"black\"/>\n",
       "<text font-family=\"Times,serif\" font-size=\"14.00\" text-anchor=\"middle\" x=\"207\" y=\"-31.3\">input:</text>\n",
       "<polyline fill=\"none\" points=\"173,-23.5 241,-23.5 \" stroke=\"black\"/>\n",
       "<text font-family=\"Times,serif\" font-size=\"14.00\" text-anchor=\"middle\" x=\"207\" y=\"-8.3\">output:</text>\n",
       "<polyline fill=\"none\" points=\"241,-0.5 241,-46.5 \" stroke=\"black\"/>\n",
       "<text font-family=\"Times,serif\" font-size=\"14.00\" text-anchor=\"middle\" x=\"282.5\" y=\"-31.3\">(None, 6)</text>\n",
       "<polyline fill=\"none\" points=\"241,-23.5 324,-23.5 \" stroke=\"black\"/>\n",
       "<text font-family=\"Times,serif\" font-size=\"14.00\" text-anchor=\"middle\" x=\"282.5\" y=\"-8.3\">(None, 1)</text>\n",
       "</g>\n",
       "<!-- 140310985152912&#45;&gt;140310984807056 -->\n",
       "<g class=\"edge\" id=\"edge4\"><title>140310985152912-&gt;140310984807056</title>\n",
       "<path d=\"M184.5,-83.3664C184.5,-75.1516 184.5,-65.6579 184.5,-56.7252\" fill=\"none\" stroke=\"black\"/>\n",
       "<polygon fill=\"black\" points=\"188,-56.6068 184.5,-46.6068 181,-56.6069 188,-56.6068\" stroke=\"black\"/>\n",
       "</g>\n",
       "</g>\n",
       "</svg>"
      ],
      "text/plain": [
       "<IPython.core.display.SVG object>"
      ]
     },
     "execution_count": 21,
     "metadata": {
      "tags": []
     },
     "output_type": "execute_result"
    }
   ],
   "source": [
    "from IPython.display import SVG\n",
    "from keras.utils.vis_utils import model_to_dot\n",
    "SVG(model_to_dot(classifier, show_shapes=True).create(prog='dot', format='svg'))"
   ]
  },
  {
   "cell_type": "code",
   "execution_count": 34,
   "metadata": {
    "colab": {
     "autoexec": {
      "startup": false,
      "wait_interval": 0
     },
     "base_uri": "https://localhost:8080/",
     "height": 34
    },
    "colab_type": "code",
    "executionInfo": {
     "elapsed": 10934,
     "status": "ok",
     "timestamp": 1528296785665,
     "user": {
      "displayName": "강양제",
      "photoUrl": "https://lh3.googleusercontent.com/a/default-user=s128",
      "userId": "118056999183661241876"
     },
     "user_tz": -540
    },
    "id": "SyLdicPwkRRO",
    "outputId": "f5e04649-041c-49f1-8baf-cf9b4402b4f0"
   },
   "outputs": [
    {
     "data": {
      "text/plain": [
       "<keras.callbacks.History at 0x7fd379753dd0>"
      ]
     },
     "execution_count": 34,
     "metadata": {
      "tags": []
     },
     "output_type": "execute_result"
    }
   ],
   "source": [
    "classifier.fit(X_train, y_train, batch_size = 5, epochs = 100,verbose=0)"
   ]
  },
  {
   "cell_type": "markdown",
   "metadata": {
    "colab_type": "text",
    "id": "XK5xJyB2qS4l"
   },
   "source": [
    "![](https://image.slidesharecdn.com/random-171120113837/95/-43-638.jpg?cb=1511177981)"
   ]
  },
  {
   "cell_type": "code",
   "execution_count": 0,
   "metadata": {
    "colab": {
     "autoexec": {
      "startup": false,
      "wait_interval": 0
     }
    },
    "colab_type": "code",
    "id": "CD5W1Qyqkc-Q"
   },
   "outputs": [],
   "source": [
    "y_pred = classifier.predict(X_test)\n",
    "y_pred = [ 1 if y>=0.5 else 0 for y in y_pred ]"
   ]
  },
  {
   "cell_type": "code",
   "execution_count": 36,
   "metadata": {
    "colab": {
     "autoexec": {
      "startup": false,
      "wait_interval": 0
     },
     "base_uri": "https://localhost:8080/",
     "height": 34
    },
    "colab_type": "code",
    "executionInfo": {
     "elapsed": 849,
     "status": "ok",
     "timestamp": 1528296818101,
     "user": {
      "displayName": "강양제",
      "photoUrl": "https://lh3.googleusercontent.com/a/default-user=s128",
      "userId": "118056999183661241876"
     },
     "user_tz": -540
    },
    "id": "n1SIL404k7cT",
    "outputId": "825ff3d0-3f23-4732-d2e1-9f689d63c75f"
   },
   "outputs": [
    {
     "data": {
      "text/plain": [
       "0.9090909090909091"
      ]
     },
     "execution_count": 36,
     "metadata": {
      "tags": []
     },
     "output_type": "execute_result"
    }
   ],
   "source": [
    "float(len((y_test == y_pred).nonzero()[0]))/len(y_test)"
   ]
  },
  {
   "cell_type": "code",
   "execution_count": 0,
   "metadata": {
    "colab": {
     "autoexec": {
      "startup": false,
      "wait_interval": 0
     }
    },
    "colab_type": "code",
    "id": "djjcwCAflJ6p"
   },
   "outputs": [],
   "source": [
    "# 딥러닝이 만능은 아니다. 데이터가 거대할때 비로소 위력을 보임. 데이터나 특성이 천개 미만이라면 전통 기계학습을 사용하자. "
   ]
  }
 ],
 "metadata": {
  "colab": {
   "default_view": {},
   "name": "DNN_for_classifcation.ipynb",
   "provenance": [],
   "version": "0.3.2",
   "views": {}
  }
 },
 "nbformat": 4,
 "nbformat_minor": 0
}

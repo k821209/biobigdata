{
 "cells": [
  {
   "cell_type": "markdown",
   "metadata": {},
   "source": [
    "- 총 1시간 반 시험입니다. \n",
    "- 작성된 ipynb 파일을 kangyangjae@gmail.com 으로 보내주세요. 꼭 지메일로 보내주세요 학교메일은 가끔 안옵니다... \n",
    "-  서버를 이용하는 것은 자유지만, 서버가 안정적이지 않기 때문에 anaconda prompt 에서 jupyter notebook을 열어서 사용하는 것을 추천합니다. \n"
   ]
  },
  {
   "cell_type": "markdown",
   "metadata": {},
   "source": [
    "## 1. Iris data를 이용해서 Iris 품종 (setosa, versicolor, virginica)을 분류하는 모델을 Random forest를 이용하여 작성하고 (n_estimators는 2000개) score 함수를 이용하여 정확도를 구해보자. train, test set을 나누어서 수행해야함. (1점) \n"
   ]
  },
  {
   "cell_type": "markdown",
   "metadata": {},
   "source": [
    "## 2.  PCA로 Iris dataset을 PC1, PC2로 차원축소한 뒤 scatter plot을 그리고 각 품종을 색깔로 표시해보자 (1점)"
   ]
  },
  {
   "cell_type": "markdown",
   "metadata": {},
   "source": [
    "\n",
    "## 3. 다음 데이터를 이용해서 각 부위 (seedling, root, floral bud)를 나누는 유전자를 선택해보고 이를 기준으로 seaborn clustermap기능을 이용하여 heatmap을 그려보자. (1점) \n",
    "** Transcription profiling by high throughput sequencing from seedling, root, and floral buds of 17 Arabidopsis thaliana accessions\n",
    " https://www.ebi.ac.uk/gxa/experiments-content/E-GEOD-53197/resources/ExperimentDownloadSupplier.RnaSeqBaseline/tpms.tsv **\n"
   ]
  },
  {
   "cell_type": "markdown",
   "metadata": {},
   "source": [
    "## 4. 문제 3번의 데이터중 뿌리발현 데이터를 이용해서 17개의 Arabidopsis accession을 분류하려한다, 유전자들이 너무 많으니 PCA를 이용하여 총 10개의 PC값으로 줄이고 (shape = (17,10)) seaborn의 clustermap 기능을 이용하여 heatmap을 그려보자 (3점)"
   ]
  },
  {
   "cell_type": "code",
   "execution_count": null,
   "metadata": {},
   "outputs": [],
   "source": []
  }
 ],
 "metadata": {
  "kernelspec": {
   "display_name": "Python 3",
   "language": "python",
   "name": "python3"
  },
  "language_info": {
   "codemirror_mode": {
    "name": "ipython",
    "version": 3
   },
   "file_extension": ".py",
   "mimetype": "text/x-python",
   "name": "python",
   "nbconvert_exporter": "python",
   "pygments_lexer": "ipython3",
   "version": "3.5.2"
  }
 },
 "nbformat": 4,
 "nbformat_minor": 2
}
